{
 "cells": [
  {
   "cell_type": "code",
   "execution_count": 1,
   "metadata": {},
   "outputs": [
    {
     "name": "stdout",
     "output_type": "stream",
     "text": [
      "Requirement already satisfied: matplotlib in c:\\users\\user\\anaconda3\\lib\\site-packages (3.3.2)\n",
      "Requirement already satisfied: pyparsing!=2.0.4,!=2.1.2,!=2.1.6,>=2.0.3 in c:\\users\\user\\anaconda3\\lib\\site-packages (from matplotlib) (2.4.7)\n",
      "Requirement already satisfied: python-dateutil>=2.1 in c:\\users\\user\\anaconda3\\lib\\site-packages (from matplotlib) (2.8.1)\n",
      "Requirement already satisfied: cycler>=0.10 in c:\\users\\user\\anaconda3\\lib\\site-packages (from matplotlib) (0.10.0)\n",
      "Requirement already satisfied: certifi>=2020.06.20 in c:\\users\\user\\anaconda3\\lib\\site-packages (from matplotlib) (2020.6.20)\n",
      "Requirement already satisfied: pillow>=6.2.0 in c:\\users\\user\\anaconda3\\lib\\site-packages (from matplotlib) (8.0.1)\n",
      "Requirement already satisfied: kiwisolver>=1.0.1 in c:\\users\\user\\anaconda3\\lib\\site-packages (from matplotlib) (1.3.0)\n",
      "Requirement already satisfied: numpy>=1.15 in c:\\users\\user\\anaconda3\\lib\\site-packages (from matplotlib) (1.19.2)\n",
      "Requirement already satisfied: six>=1.5 in c:\\users\\user\\anaconda3\\lib\\site-packages (from python-dateutil>=2.1->matplotlib) (1.15.0)\n"
     ]
    }
   ],
   "source": [
    "!pip install matplotlib"
   ]
  },
  {
   "cell_type": "code",
   "execution_count": 2,
   "metadata": {},
   "outputs": [],
   "source": [
    "import pandas as pd"
   ]
  },
  {
   "cell_type": "code",
   "execution_count": 5,
   "metadata": {},
   "outputs": [],
   "source": [
    "import matplotlib.pyplot as pyp"
   ]
  },
  {
   "cell_type": "code",
   "execution_count": 7,
   "metadata": {},
   "outputs": [
    {
     "data": {
      "text/html": [
       "<div>\n",
       "<style scoped>\n",
       "    .dataframe tbody tr th:only-of-type {\n",
       "        vertical-align: middle;\n",
       "    }\n",
       "\n",
       "    .dataframe tbody tr th {\n",
       "        vertical-align: top;\n",
       "    }\n",
       "\n",
       "    .dataframe thead th {\n",
       "        text-align: right;\n",
       "    }\n",
       "</style>\n",
       "<table border=\"1\" class=\"dataframe\">\n",
       "  <thead>\n",
       "    <tr style=\"text-align: right;\">\n",
       "      <th></th>\n",
       "      <th>kode_negara</th>\n",
       "      <th>jumlah_koloni</th>\n",
       "      <th>produksi_madu_per_koloni</th>\n",
       "      <th>total_produksi</th>\n",
       "      <th>stok(pon)</th>\n",
       "      <th>harga_per_pon</th>\n",
       "      <th>nilai_total_produksi</th>\n",
       "      <th>tahun</th>\n",
       "    </tr>\n",
       "  </thead>\n",
       "  <tbody>\n",
       "    <tr>\n",
       "      <th>0</th>\n",
       "      <td>AL</td>\n",
       "      <td>16000.0</td>\n",
       "      <td>71</td>\n",
       "      <td>1136000.0</td>\n",
       "      <td>159000.0</td>\n",
       "      <td>0.72</td>\n",
       "      <td>818000.0</td>\n",
       "      <td>1998</td>\n",
       "    </tr>\n",
       "    <tr>\n",
       "      <th>1</th>\n",
       "      <td>AZ</td>\n",
       "      <td>55000.0</td>\n",
       "      <td>60</td>\n",
       "      <td>3300000.0</td>\n",
       "      <td>1485000.0</td>\n",
       "      <td>0.64</td>\n",
       "      <td>2112000.0</td>\n",
       "      <td>1998</td>\n",
       "    </tr>\n",
       "    <tr>\n",
       "      <th>2</th>\n",
       "      <td>AR</td>\n",
       "      <td>53000.0</td>\n",
       "      <td>65</td>\n",
       "      <td>3445000.0</td>\n",
       "      <td>1688000.0</td>\n",
       "      <td>0.59</td>\n",
       "      <td>2033000.0</td>\n",
       "      <td>1998</td>\n",
       "    </tr>\n",
       "    <tr>\n",
       "      <th>3</th>\n",
       "      <td>CA</td>\n",
       "      <td>450000.0</td>\n",
       "      <td>83</td>\n",
       "      <td>37350000.0</td>\n",
       "      <td>12326000.0</td>\n",
       "      <td>0.62</td>\n",
       "      <td>23157000.0</td>\n",
       "      <td>1998</td>\n",
       "    </tr>\n",
       "    <tr>\n",
       "      <th>4</th>\n",
       "      <td>CO</td>\n",
       "      <td>27000.0</td>\n",
       "      <td>72</td>\n",
       "      <td>1944000.0</td>\n",
       "      <td>1594000.0</td>\n",
       "      <td>0.70</td>\n",
       "      <td>1361000.0</td>\n",
       "      <td>1998</td>\n",
       "    </tr>\n",
       "  </tbody>\n",
       "</table>\n",
       "</div>"
      ],
      "text/plain": [
       "  kode_negara  jumlah_koloni  produksi_madu_per_koloni  total_produksi  \\\n",
       "0          AL        16000.0                        71       1136000.0   \n",
       "1          AZ        55000.0                        60       3300000.0   \n",
       "2          AR        53000.0                        65       3445000.0   \n",
       "3          CA       450000.0                        83      37350000.0   \n",
       "4          CO        27000.0                        72       1944000.0   \n",
       "\n",
       "    stok(pon)  harga_per_pon  nilai_total_produksi  tahun  \n",
       "0    159000.0           0.72              818000.0   1998  \n",
       "1   1485000.0           0.64             2112000.0   1998  \n",
       "2   1688000.0           0.59             2033000.0   1998  \n",
       "3  12326000.0           0.62            23157000.0   1998  \n",
       "4   1594000.0           0.70             1361000.0   1998  "
      ]
     },
     "execution_count": 7,
     "metadata": {},
     "output_type": "execute_result"
    }
   ],
   "source": [
    "data_df = pd.read_csv(\"produksi_madu.csv\")\n",
    "data_df.head()"
   ]
  },
  {
   "cell_type": "code",
   "execution_count": 9,
   "metadata": {},
   "outputs": [
    {
     "data": {
      "text/html": [
       "<div>\n",
       "<style scoped>\n",
       "    .dataframe tbody tr th:only-of-type {\n",
       "        vertical-align: middle;\n",
       "    }\n",
       "\n",
       "    .dataframe tbody tr th {\n",
       "        vertical-align: top;\n",
       "    }\n",
       "\n",
       "    .dataframe thead th {\n",
       "        text-align: right;\n",
       "    }\n",
       "</style>\n",
       "<table border=\"1\" class=\"dataframe\">\n",
       "  <thead>\n",
       "    <tr style=\"text-align: right;\">\n",
       "      <th></th>\n",
       "      <th>kode_negara</th>\n",
       "      <th>jumlah_koloni</th>\n",
       "      <th>produksi_madu_per_koloni</th>\n",
       "      <th>total_produksi</th>\n",
       "      <th>stok(pon)</th>\n",
       "      <th>harga_per_pon</th>\n",
       "      <th>nilai_total_produksi</th>\n",
       "      <th>tahun</th>\n",
       "    </tr>\n",
       "  </thead>\n",
       "  <tbody>\n",
       "    <tr>\n",
       "      <th>3</th>\n",
       "      <td>CA</td>\n",
       "      <td>450000.0</td>\n",
       "      <td>83</td>\n",
       "      <td>37350000.0</td>\n",
       "      <td>12326000.0</td>\n",
       "      <td>0.62</td>\n",
       "      <td>23157000.0</td>\n",
       "      <td>1998</td>\n",
       "    </tr>\n",
       "    <tr>\n",
       "      <th>46</th>\n",
       "      <td>CA</td>\n",
       "      <td>465000.0</td>\n",
       "      <td>60</td>\n",
       "      <td>27900000.0</td>\n",
       "      <td>9486000.0</td>\n",
       "      <td>0.55</td>\n",
       "      <td>15345000.0</td>\n",
       "      <td>1999</td>\n",
       "    </tr>\n",
       "    <tr>\n",
       "      <th>89</th>\n",
       "      <td>CA</td>\n",
       "      <td>440000.0</td>\n",
       "      <td>70</td>\n",
       "      <td>30800000.0</td>\n",
       "      <td>11396000.0</td>\n",
       "      <td>0.59</td>\n",
       "      <td>18172000.0</td>\n",
       "      <td>2000</td>\n",
       "    </tr>\n",
       "    <tr>\n",
       "      <th>132</th>\n",
       "      <td>CA</td>\n",
       "      <td>460000.0</td>\n",
       "      <td>61</td>\n",
       "      <td>28060000.0</td>\n",
       "      <td>7857000.0</td>\n",
       "      <td>0.69</td>\n",
       "      <td>19361000.0</td>\n",
       "      <td>2001</td>\n",
       "    </tr>\n",
       "    <tr>\n",
       "      <th>176</th>\n",
       "      <td>CA</td>\n",
       "      <td>470000.0</td>\n",
       "      <td>50</td>\n",
       "      <td>23500000.0</td>\n",
       "      <td>3525000.0</td>\n",
       "      <td>1.32</td>\n",
       "      <td>31020000.0</td>\n",
       "      <td>2002</td>\n",
       "    </tr>\n",
       "  </tbody>\n",
       "</table>\n",
       "</div>"
      ],
      "text/plain": [
       "    kode_negara  jumlah_koloni  produksi_madu_per_koloni  total_produksi  \\\n",
       "3            CA       450000.0                        83      37350000.0   \n",
       "46           CA       465000.0                        60      27900000.0   \n",
       "89           CA       440000.0                        70      30800000.0   \n",
       "132          CA       460000.0                        61      28060000.0   \n",
       "176          CA       470000.0                        50      23500000.0   \n",
       "\n",
       "      stok(pon)  harga_per_pon  nilai_total_produksi  tahun  \n",
       "3    12326000.0           0.62            23157000.0   1998  \n",
       "46    9486000.0           0.55            15345000.0   1999  \n",
       "89   11396000.0           0.59            18172000.0   2000  \n",
       "132   7857000.0           0.69            19361000.0   2001  \n",
       "176   3525000.0           1.32            31020000.0   2002  "
      ]
     },
     "execution_count": 9,
     "metadata": {},
     "output_type": "execute_result"
    }
   ],
   "source": [
    "data_madu_CA = data_df[data_df[\"kode_negara\"] == \"CA\"]\n",
    "data_madu_CA.head()"
   ]
  },
  {
   "cell_type": "code",
   "execution_count": 11,
   "metadata": {},
   "outputs": [
    {
     "data": {
      "text/plain": [
       "[<matplotlib.lines.Line2D at 0x2c0aa04fd60>]"
      ]
     },
     "execution_count": 11,
     "metadata": {},
     "output_type": "execute_result"
    },
    {
     "data": {
      "image/png": "[encoded data removed]",
      "text/plain": [
       "<Figure size 432x288 with 1 Axes>"
      ]
     },
     "metadata": {
      "needs_background": "light"
     },
     "output_type": "display_data"
    }
   ],
   "source": [
    "x = data_madu_CA[\"tahun\"]\n",
    "y = data_madu_CA[\"harga_per_pon\"]\n",
    "pyp.plot(x,y)"
   ]
  },
  {
   "cell_type": "code",
   "execution_count": 12,
   "metadata": {},
   "outputs": [
    {
     "data": {
      "text/plain": [
       "<matplotlib.collections.PathCollection at 0x2c0aa13f8e0>"
      ]
     },
     "execution_count": 12,
     "metadata": {},
     "output_type": "execute_result"
    },
    {
     "data": {
      "image/png": "[encoded data removed]",
      "text/plain": [
       "<Figure size 432x288 with 1 Axes>"
      ]
     },
     "metadata": {
      "needs_background": "light"
     },
     "output_type": "display_data"
    }
   ],
   "source": [
    "pyp.scatter(x,y)"
   ]
  },
  {
   "cell_type": "code",
   "execution_count": 15,
   "metadata": {},
   "outputs": [
    {
     "data": {
      "text/html": [
       "<div>\n",
       "<style scoped>\n",
       "    .dataframe tbody tr th:only-of-type {\n",
       "        vertical-align: middle;\n",
       "    }\n",
       "\n",
       "    .dataframe tbody tr th {\n",
       "        vertical-align: top;\n",
       "    }\n",
       "\n",
       "    .dataframe thead th {\n",
       "        text-align: right;\n",
       "    }\n",
       "</style>\n",
       "<table border=\"1\" class=\"dataframe\">\n",
       "  <thead>\n",
       "    <tr style=\"text-align: right;\">\n",
       "      <th></th>\n",
       "      <th>kode_negara</th>\n",
       "      <th>jumlah_koloni</th>\n",
       "      <th>produksi_madu_per_koloni</th>\n",
       "      <th>total_produksi</th>\n",
       "      <th>stok(pon)</th>\n",
       "      <th>harga_per_pon</th>\n",
       "      <th>nilai_total_produksi</th>\n",
       "      <th>tahun</th>\n",
       "    </tr>\n",
       "  </thead>\n",
       "  <tbody>\n",
       "    <tr>\n",
       "      <th>586</th>\n",
       "      <td>AL</td>\n",
       "      <td>8000.0</td>\n",
       "      <td>54</td>\n",
       "      <td>432000.0</td>\n",
       "      <td>65000.0</td>\n",
       "      <td>2.47</td>\n",
       "      <td>1067000.0</td>\n",
       "      <td>2012</td>\n",
       "    </tr>\n",
       "    <tr>\n",
       "      <th>587</th>\n",
       "      <td>AZ</td>\n",
       "      <td>22000.0</td>\n",
       "      <td>46</td>\n",
       "      <td>1012000.0</td>\n",
       "      <td>253000.0</td>\n",
       "      <td>1.79</td>\n",
       "      <td>1811000.0</td>\n",
       "      <td>2012</td>\n",
       "    </tr>\n",
       "    <tr>\n",
       "      <th>588</th>\n",
       "      <td>AR</td>\n",
       "      <td>25000.0</td>\n",
       "      <td>63</td>\n",
       "      <td>1575000.0</td>\n",
       "      <td>189000.0</td>\n",
       "      <td>1.98</td>\n",
       "      <td>3119000.0</td>\n",
       "      <td>2012</td>\n",
       "    </tr>\n",
       "    <tr>\n",
       "      <th>589</th>\n",
       "      <td>CA</td>\n",
       "      <td>330000.0</td>\n",
       "      <td>35</td>\n",
       "      <td>11550000.0</td>\n",
       "      <td>3119000.0</td>\n",
       "      <td>1.94</td>\n",
       "      <td>22407000.0</td>\n",
       "      <td>2012</td>\n",
       "    </tr>\n",
       "    <tr>\n",
       "      <th>590</th>\n",
       "      <td>CO</td>\n",
       "      <td>25000.0</td>\n",
       "      <td>48</td>\n",
       "      <td>1200000.0</td>\n",
       "      <td>468000.0</td>\n",
       "      <td>2.07</td>\n",
       "      <td>2484000.0</td>\n",
       "      <td>2012</td>\n",
       "    </tr>\n",
       "  </tbody>\n",
       "</table>\n",
       "</div>"
      ],
      "text/plain": [
       "    kode_negara  jumlah_koloni  produksi_madu_per_koloni  total_produksi  \\\n",
       "586          AL         8000.0                        54        432000.0   \n",
       "587          AZ        22000.0                        46       1012000.0   \n",
       "588          AR        25000.0                        63       1575000.0   \n",
       "589          CA       330000.0                        35      11550000.0   \n",
       "590          CO        25000.0                        48       1200000.0   \n",
       "\n",
       "     stok(pon)  harga_per_pon  nilai_total_produksi  tahun  \n",
       "586    65000.0           2.47             1067000.0   2012  \n",
       "587   253000.0           1.79             1811000.0   2012  \n",
       "588   189000.0           1.98             3119000.0   2012  \n",
       "589  3119000.0           1.94            22407000.0   2012  \n",
       "590   468000.0           2.07             2484000.0   2012  "
      ]
     },
     "execution_count": 15,
     "metadata": {},
     "output_type": "execute_result"
    }
   ],
   "source": [
    "data_madu_2012 = data_df[data_df[\"tahun\"]==2012]\n",
    "data_madu_2012.head()"
   ]
  },
  {
   "cell_type": "code",
   "execution_count": 18,
   "metadata": {},
   "outputs": [
    {
     "data": {
      "text/plain": [
       "(array([30.,  4.,  2.,  2.,  1.,  0.,  0.,  0.,  0.,  1.]),\n",
       " array([  136000.,  3434400.,  6732800., 10031200., 13329600., 16628000.,\n",
       "        19926400., 23224800., 26523200., 29821600., 33120000.]),\n",
       " <BarContainer object of 10 artists>)"
      ]
     },
     "execution_count": 18,
     "metadata": {},
     "output_type": "execute_result"
    },
    {
     "data": {
      "image/png": "[encoded data removed]",
      "text/plain": [
       "<Figure size 432x288 with 1 Axes>"
      ]
     },
     "metadata": {
      "needs_background": "light"
     },
     "output_type": "display_data"
    }
   ],
   "source": [
    "pyp.hist(data_madu_2012[\"total_produksi\"])"
   ]
  },
  {
   "cell_type": "code",
   "execution_count": 20,
   "metadata": {},
   "outputs": [
    {
     "data": {
      "text/plain": [
       "(array([36.,  3.,  1.]),\n",
       " array([  136000.        , 11130666.66666667, 22125333.33333333,\n",
       "        33120000.        ]),\n",
       " <BarContainer object of 3 artists>)"
      ]
     },
     "execution_count": 20,
     "metadata": {},
     "output_type": "execute_result"
    },
    {
     "data": {
      "image/png": "[encoded data removed]",
      "text/plain": [
       "<Figure size 432x288 with 1 Axes>"
      ]
     },
     "metadata": {
      "needs_background": "light"
     },
     "output_type": "display_data"
    }
   ],
   "source": [
    "pyp.hist(data_madu_2012[\"total_produksi\"],3)"
   ]
  },
  {
   "cell_type": "code",
   "execution_count": 21,
   "metadata": {},
   "outputs": [
    {
     "data": {
      "text/plain": [
       "(array([20.,  4.,  6.,  3.,  1.,  0.,  1.,  1.,  0.,  0.,  1.,  1.,  0.,\n",
       "         0.,  1.,  0.,  0.,  0.,  0.,  0.,  0.,  0.,  0.,  0.,  0.,  0.,\n",
       "         0.,  0.,  0.,  1.]),\n",
       " array([  136000.        ,  1235466.66666667,  2334933.33333333,\n",
       "         3434400.        ,  4533866.66666667,  5633333.33333333,\n",
       "         6732800.        ,  7832266.66666667,  8931733.33333333,\n",
       "        10031200.        , 11130666.66666667, 12230133.33333333,\n",
       "        13329600.        , 14429066.66666667, 15528533.33333333,\n",
       "        16628000.        , 17727466.66666667, 18826933.33333334,\n",
       "        19926400.        , 21025866.66666667, 22125333.33333334,\n",
       "        23224800.        , 24324266.66666667, 25423733.33333334,\n",
       "        26523200.        , 27622666.66666667, 28722133.33333334,\n",
       "        29821600.        , 30921066.66666667, 32020533.33333334,\n",
       "        33120000.        ]),\n",
       " <BarContainer object of 30 artists>)"
      ]
     },
     "execution_count": 21,
     "metadata": {},
     "output_type": "execute_result"
    },
    {
     "data": {
      "image/png": "[encoded data removed]",
      "text/plain": [
       "<Figure size 432x288 with 1 Axes>"
      ]
     },
     "metadata": {
      "needs_background": "light"
     },
     "output_type": "display_data"
    }
   ],
   "source": [
    "pyp.hist(data_madu_2012[\"total_produksi\"],30)"
   ]
  },
  {
   "cell_type": "code",
   "execution_count": null,
   "metadata": {},
   "outputs": [],
   "source": []
  }
 ],
 "metadata": {
  "kernelspec": {
   "display_name": "Python 3",
   "language": "python",
   "name": "python3"
  },
  "language_info": {
   "codemirror_mode": {
    "name": "ipython",
    "version": 3
   },
   "file_extension": ".py",
   "mimetype": "text/x-python",
   "name": "python",
   "nbconvert_exporter": "python",
   "pygments_lexer": "ipython3",
   "version": "3.8.5"
  }
 },
 "nbformat": 4,
 "nbformat_minor": 4
}
